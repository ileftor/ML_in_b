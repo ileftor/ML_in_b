{
 "cells": [
  {
   "cell_type": "markdown",
   "metadata": {},
   "source": [
    "## Домашнее задание 6 ##"
   ]
  },
  {
   "cell_type": "markdown",
   "metadata": {},
   "source": [
    "**1. Взяла для работы датасет https://archive.ics.uci.edu/ml/datasets/Shill+Bidding+Dataset#**"
   ]
  },
  {
   "cell_type": "code",
   "execution_count": 1,
   "metadata": {},
   "outputs": [],
   "source": [
    "import pandas as pd\n",
    "import numpy as np\n",
    "\n",
    "%matplotlib inline\n",
    "import matplotlib.pylab as plt\n",
    "import seaborn as sns\n",
    "\n",
    "from sklearn.model_selection import train_test_split\n",
    "from sklearn.metrics import roc_auc_score, f1_score, precision_score, recall_score\n",
    "\n",
    "\n",
    "from sklearn.ensemble import GradientBoostingClassifier\n",
    "from sklearn.linear_model import LogisticRegression"
   ]
  },
  {
   "cell_type": "code",
   "execution_count": 2,
   "metadata": {},
   "outputs": [
    {
     "data": {
      "text/html": [
       "<div>\n",
       "<style scoped>\n",
       "    .dataframe tbody tr th:only-of-type {\n",
       "        vertical-align: middle;\n",
       "    }\n",
       "\n",
       "    .dataframe tbody tr th {\n",
       "        vertical-align: top;\n",
       "    }\n",
       "\n",
       "    .dataframe thead th {\n",
       "        text-align: right;\n",
       "    }\n",
       "</style>\n",
       "<table border=\"1\" class=\"dataframe\">\n",
       "  <thead>\n",
       "    <tr style=\"text-align: right;\">\n",
       "      <th></th>\n",
       "      <th>Record_ID</th>\n",
       "      <th>Auction_ID</th>\n",
       "      <th>Bidder_ID</th>\n",
       "      <th>Bidder_Tendency</th>\n",
       "      <th>Bidding_Ratio</th>\n",
       "      <th>Successive_Outbidding</th>\n",
       "      <th>Last_Bidding</th>\n",
       "      <th>Auction_Bids</th>\n",
       "      <th>Starting_Price_Average</th>\n",
       "      <th>Early_Bidding</th>\n",
       "      <th>Winning_Ratio</th>\n",
       "      <th>Auction_Duration</th>\n",
       "      <th>Class</th>\n",
       "    </tr>\n",
       "  </thead>\n",
       "  <tbody>\n",
       "    <tr>\n",
       "      <td>0</td>\n",
       "      <td>1</td>\n",
       "      <td>732</td>\n",
       "      <td>_***i</td>\n",
       "      <td>0.200000</td>\n",
       "      <td>0.4</td>\n",
       "      <td>0.0</td>\n",
       "      <td>0.000028</td>\n",
       "      <td>0.0</td>\n",
       "      <td>0.993593</td>\n",
       "      <td>0.000028</td>\n",
       "      <td>0.666667</td>\n",
       "      <td>5</td>\n",
       "      <td>0</td>\n",
       "    </tr>\n",
       "    <tr>\n",
       "      <td>1</td>\n",
       "      <td>2</td>\n",
       "      <td>732</td>\n",
       "      <td>g***r</td>\n",
       "      <td>0.024390</td>\n",
       "      <td>0.2</td>\n",
       "      <td>0.0</td>\n",
       "      <td>0.013123</td>\n",
       "      <td>0.0</td>\n",
       "      <td>0.993593</td>\n",
       "      <td>0.013123</td>\n",
       "      <td>0.944444</td>\n",
       "      <td>5</td>\n",
       "      <td>0</td>\n",
       "    </tr>\n",
       "    <tr>\n",
       "      <td>2</td>\n",
       "      <td>3</td>\n",
       "      <td>732</td>\n",
       "      <td>t***p</td>\n",
       "      <td>0.142857</td>\n",
       "      <td>0.2</td>\n",
       "      <td>0.0</td>\n",
       "      <td>0.003042</td>\n",
       "      <td>0.0</td>\n",
       "      <td>0.993593</td>\n",
       "      <td>0.003042</td>\n",
       "      <td>1.000000</td>\n",
       "      <td>5</td>\n",
       "      <td>0</td>\n",
       "    </tr>\n",
       "  </tbody>\n",
       "</table>\n",
       "</div>"
      ],
      "text/plain": [
       "   Record_ID  Auction_ID Bidder_ID  Bidder_Tendency  Bidding_Ratio  \\\n",
       "0          1         732     _***i         0.200000            0.4   \n",
       "1          2         732     g***r         0.024390            0.2   \n",
       "2          3         732     t***p         0.142857            0.2   \n",
       "\n",
       "   Successive_Outbidding  Last_Bidding  Auction_Bids  Starting_Price_Average  \\\n",
       "0                    0.0      0.000028           0.0                0.993593   \n",
       "1                    0.0      0.013123           0.0                0.993593   \n",
       "2                    0.0      0.003042           0.0                0.993593   \n",
       "\n",
       "   Early_Bidding  Winning_Ratio  Auction_Duration  Class  \n",
       "0       0.000028       0.666667                 5      0  \n",
       "1       0.013123       0.944444                 5      0  \n",
       "2       0.003042       1.000000                 5      0  "
      ]
     },
     "execution_count": 2,
     "metadata": {},
     "output_type": "execute_result"
    }
   ],
   "source": [
    "data = pd.read_csv(\"Shill_Bidding_Dataset.csv\", sep=',')\n",
    "data.head(3)"
   ]
  },
  {
   "cell_type": "markdown",
   "metadata": {},
   "source": [
    "Описание датасета\n",
    "\n",
    "**Record ID** уникальный идентификатор записи в наборе данных\n",
    "\n",
    "**Auction ID** уникальный идентификатор аукциона\n",
    "\n",
    "**Bidder ID** уникальный идентификатор участника торгов\n",
    "\n",
    "**Bidder Tendency** участник торгов на торгах участвует исключительно в аукционах нескольких продавцов, а не в разнообразных \n",
    "лотах. Это сговор между продавцом-мошенником и сообщником\n",
    "\n",
    "**Bidding Ratio** участник торгов на торгах чаще участвует, чтобы поднять цену аукциона и привлечь более высокие ставки от законных участников\n",
    "\n",
    "**Successive Outbidding** участник торгов последовательно перебивает сам себя, даже если он является текущим победителем, постепенно увеличивая цену с небольшими последовательными приращениями\n",
    "\n",
    "**Last Bidding** участник торгов становится неактивным на последнем этапе аукциона (более 90% продолжительности аукциона), чтобы не выиграть аукцион\n",
    "\n",
    "**Auction Bids** Аукционы с SB-деятельностью, как правило, имеют гораздо большее количество ставок, чем среднее количество ставок на параллельных аукционах\n",
    "\n",
    "**Auction Starting Price** участник торгов обычно предлагает небольшую стартовую цену, чтобы привлечь законных участников торгов на аукцион \n",
    "\n",
    "**Early Bidding** участник торгов, как правило, делает ставку на довольно раннем этапе аукциона (менее 25% продолжительности аукциона), чтобы привлечь внимание пользователей аукциона \n",
    "\n",
    "**Winning Ratio** участник торгов на торгах участвует во многих аукционах, но вряд ли побеждает ни на одном из них\n",
    "\n",
    "**Auction Duration**  как долго длился аукцион\n",
    "\n",
    "**Class** 0 для нормального поведения торгов; 1 в противном случае"
   ]
  },
  {
   "cell_type": "code",
   "execution_count": 3,
   "metadata": {},
   "outputs": [
    {
     "name": "stdout",
     "output_type": "stream",
     "text": [
      "<class 'pandas.core.frame.DataFrame'>\n",
      "RangeIndex: 6321 entries, 0 to 6320\n",
      "Data columns (total 13 columns):\n",
      "Record_ID                 6321 non-null int64\n",
      "Auction_ID                6321 non-null int64\n",
      "Bidder_ID                 6321 non-null object\n",
      "Bidder_Tendency           6321 non-null float64\n",
      "Bidding_Ratio             6321 non-null float64\n",
      "Successive_Outbidding     6321 non-null float64\n",
      "Last_Bidding              6321 non-null float64\n",
      "Auction_Bids              6321 non-null float64\n",
      "Starting_Price_Average    6321 non-null float64\n",
      "Early_Bidding             6321 non-null float64\n",
      "Winning_Ratio             6321 non-null float64\n",
      "Auction_Duration          6321 non-null int64\n",
      "Class                     6321 non-null int64\n",
      "dtypes: float64(8), int64(4), object(1)\n",
      "memory usage: 642.1+ KB\n"
     ]
    }
   ],
   "source": [
    "data.info()"
   ]
  },
  {
   "cell_type": "markdown",
   "metadata": {},
   "source": [
    "**2. сделать feature engineering**"
   ]
  },
  {
   "cell_type": "code",
   "execution_count": 4,
   "metadata": {},
   "outputs": [
    {
     "data": {
      "text/html": [
       "<div>\n",
       "<style scoped>\n",
       "    .dataframe tbody tr th:only-of-type {\n",
       "        vertical-align: middle;\n",
       "    }\n",
       "\n",
       "    .dataframe tbody tr th {\n",
       "        vertical-align: top;\n",
       "    }\n",
       "\n",
       "    .dataframe thead th {\n",
       "        text-align: right;\n",
       "    }\n",
       "</style>\n",
       "<table border=\"1\" class=\"dataframe\">\n",
       "  <thead>\n",
       "    <tr style=\"text-align: right;\">\n",
       "      <th></th>\n",
       "      <th>Bidder_Tendency</th>\n",
       "      <th>Bidding_Ratio</th>\n",
       "      <th>Successive_Outbidding</th>\n",
       "      <th>Last_Bidding</th>\n",
       "      <th>Auction_Bids</th>\n",
       "      <th>Starting_Price_Average</th>\n",
       "      <th>Early_Bidding</th>\n",
       "      <th>Winning_Ratio</th>\n",
       "      <th>Auction_Duration</th>\n",
       "      <th>Class</th>\n",
       "    </tr>\n",
       "  </thead>\n",
       "  <tbody>\n",
       "    <tr>\n",
       "      <td>0</td>\n",
       "      <td>0.200000</td>\n",
       "      <td>0.4</td>\n",
       "      <td>0.0</td>\n",
       "      <td>0.000028</td>\n",
       "      <td>0.0</td>\n",
       "      <td>0.993593</td>\n",
       "      <td>0.000028</td>\n",
       "      <td>0.666667</td>\n",
       "      <td>5</td>\n",
       "      <td>0</td>\n",
       "    </tr>\n",
       "    <tr>\n",
       "      <td>1</td>\n",
       "      <td>0.024390</td>\n",
       "      <td>0.2</td>\n",
       "      <td>0.0</td>\n",
       "      <td>0.013123</td>\n",
       "      <td>0.0</td>\n",
       "      <td>0.993593</td>\n",
       "      <td>0.013123</td>\n",
       "      <td>0.944444</td>\n",
       "      <td>5</td>\n",
       "      <td>0</td>\n",
       "    </tr>\n",
       "    <tr>\n",
       "      <td>2</td>\n",
       "      <td>0.142857</td>\n",
       "      <td>0.2</td>\n",
       "      <td>0.0</td>\n",
       "      <td>0.003042</td>\n",
       "      <td>0.0</td>\n",
       "      <td>0.993593</td>\n",
       "      <td>0.003042</td>\n",
       "      <td>1.000000</td>\n",
       "      <td>5</td>\n",
       "      <td>0</td>\n",
       "    </tr>\n",
       "  </tbody>\n",
       "</table>\n",
       "</div>"
      ],
      "text/plain": [
       "   Bidder_Tendency  Bidding_Ratio  Successive_Outbidding  Last_Bidding  \\\n",
       "0         0.200000            0.4                    0.0      0.000028   \n",
       "1         0.024390            0.2                    0.0      0.013123   \n",
       "2         0.142857            0.2                    0.0      0.003042   \n",
       "\n",
       "   Auction_Bids  Starting_Price_Average  Early_Bidding  Winning_Ratio  \\\n",
       "0           0.0                0.993593       0.000028       0.666667   \n",
       "1           0.0                0.993593       0.013123       0.944444   \n",
       "2           0.0                0.993593       0.003042       1.000000   \n",
       "\n",
       "   Auction_Duration  Class  \n",
       "0                 5      0  \n",
       "1                 5      0  \n",
       "2                 5      0  "
      ]
     },
     "execution_count": 4,
     "metadata": {},
     "output_type": "execute_result"
    }
   ],
   "source": [
    "data = data.drop(['Record_ID', 'Auction_ID', 'Bidder_ID'], axis = 1) #Удалим неинформативные признаки\n",
    "data.head(3)"
   ]
  },
  {
   "cell_type": "code",
   "execution_count": 5,
   "metadata": {},
   "outputs": [
    {
     "data": {
      "text/html": [
       "<div>\n",
       "<style scoped>\n",
       "    .dataframe tbody tr th:only-of-type {\n",
       "        vertical-align: middle;\n",
       "    }\n",
       "\n",
       "    .dataframe tbody tr th {\n",
       "        vertical-align: top;\n",
       "    }\n",
       "\n",
       "    .dataframe thead th {\n",
       "        text-align: right;\n",
       "    }\n",
       "</style>\n",
       "<table border=\"1\" class=\"dataframe\">\n",
       "  <thead>\n",
       "    <tr style=\"text-align: right;\">\n",
       "      <th></th>\n",
       "      <th>Bidder_Tendency</th>\n",
       "      <th>Bidding_Ratio</th>\n",
       "      <th>Successive_Outbidding</th>\n",
       "      <th>Last_Bidding</th>\n",
       "      <th>Auction_Bids</th>\n",
       "      <th>Starting_Price_Average</th>\n",
       "      <th>Early_Bidding</th>\n",
       "      <th>Winning_Ratio</th>\n",
       "      <th>Auction_Duration</th>\n",
       "      <th>Class</th>\n",
       "    </tr>\n",
       "  </thead>\n",
       "  <tbody>\n",
       "    <tr>\n",
       "      <td>count</td>\n",
       "      <td>6321.000000</td>\n",
       "      <td>6321.000000</td>\n",
       "      <td>6321.000000</td>\n",
       "      <td>6321.000000</td>\n",
       "      <td>6321.000000</td>\n",
       "      <td>6321.000000</td>\n",
       "      <td>6321.000000</td>\n",
       "      <td>6321.000000</td>\n",
       "      <td>6321.000000</td>\n",
       "      <td>6321.000000</td>\n",
       "    </tr>\n",
       "    <tr>\n",
       "      <td>mean</td>\n",
       "      <td>0.142541</td>\n",
       "      <td>0.127670</td>\n",
       "      <td>0.103781</td>\n",
       "      <td>0.463119</td>\n",
       "      <td>0.231606</td>\n",
       "      <td>0.472821</td>\n",
       "      <td>0.430683</td>\n",
       "      <td>0.367731</td>\n",
       "      <td>4.615093</td>\n",
       "      <td>0.106787</td>\n",
       "    </tr>\n",
       "    <tr>\n",
       "      <td>std</td>\n",
       "      <td>0.197084</td>\n",
       "      <td>0.131530</td>\n",
       "      <td>0.279698</td>\n",
       "      <td>0.380097</td>\n",
       "      <td>0.255252</td>\n",
       "      <td>0.489912</td>\n",
       "      <td>0.380785</td>\n",
       "      <td>0.436573</td>\n",
       "      <td>2.466629</td>\n",
       "      <td>0.308867</td>\n",
       "    </tr>\n",
       "    <tr>\n",
       "      <td>min</td>\n",
       "      <td>0.000000</td>\n",
       "      <td>0.011765</td>\n",
       "      <td>0.000000</td>\n",
       "      <td>0.000000</td>\n",
       "      <td>0.000000</td>\n",
       "      <td>0.000000</td>\n",
       "      <td>0.000000</td>\n",
       "      <td>0.000000</td>\n",
       "      <td>1.000000</td>\n",
       "      <td>0.000000</td>\n",
       "    </tr>\n",
       "    <tr>\n",
       "      <td>25%</td>\n",
       "      <td>0.027027</td>\n",
       "      <td>0.043478</td>\n",
       "      <td>0.000000</td>\n",
       "      <td>0.047928</td>\n",
       "      <td>0.000000</td>\n",
       "      <td>0.000000</td>\n",
       "      <td>0.026620</td>\n",
       "      <td>0.000000</td>\n",
       "      <td>3.000000</td>\n",
       "      <td>0.000000</td>\n",
       "    </tr>\n",
       "    <tr>\n",
       "      <td>50%</td>\n",
       "      <td>0.062500</td>\n",
       "      <td>0.083333</td>\n",
       "      <td>0.000000</td>\n",
       "      <td>0.440937</td>\n",
       "      <td>0.142857</td>\n",
       "      <td>0.000000</td>\n",
       "      <td>0.360104</td>\n",
       "      <td>0.000000</td>\n",
       "      <td>5.000000</td>\n",
       "      <td>0.000000</td>\n",
       "    </tr>\n",
       "    <tr>\n",
       "      <td>75%</td>\n",
       "      <td>0.166667</td>\n",
       "      <td>0.166667</td>\n",
       "      <td>0.000000</td>\n",
       "      <td>0.860363</td>\n",
       "      <td>0.454545</td>\n",
       "      <td>0.993593</td>\n",
       "      <td>0.826761</td>\n",
       "      <td>0.851852</td>\n",
       "      <td>7.000000</td>\n",
       "      <td>0.000000</td>\n",
       "    </tr>\n",
       "    <tr>\n",
       "      <td>max</td>\n",
       "      <td>1.000000</td>\n",
       "      <td>1.000000</td>\n",
       "      <td>1.000000</td>\n",
       "      <td>0.999900</td>\n",
       "      <td>0.788235</td>\n",
       "      <td>0.999935</td>\n",
       "      <td>0.999900</td>\n",
       "      <td>1.000000</td>\n",
       "      <td>10.000000</td>\n",
       "      <td>1.000000</td>\n",
       "    </tr>\n",
       "  </tbody>\n",
       "</table>\n",
       "</div>"
      ],
      "text/plain": [
       "       Bidder_Tendency  Bidding_Ratio  Successive_Outbidding  Last_Bidding  \\\n",
       "count      6321.000000    6321.000000            6321.000000   6321.000000   \n",
       "mean          0.142541       0.127670               0.103781      0.463119   \n",
       "std           0.197084       0.131530               0.279698      0.380097   \n",
       "min           0.000000       0.011765               0.000000      0.000000   \n",
       "25%           0.027027       0.043478               0.000000      0.047928   \n",
       "50%           0.062500       0.083333               0.000000      0.440937   \n",
       "75%           0.166667       0.166667               0.000000      0.860363   \n",
       "max           1.000000       1.000000               1.000000      0.999900   \n",
       "\n",
       "       Auction_Bids  Starting_Price_Average  Early_Bidding  Winning_Ratio  \\\n",
       "count   6321.000000             6321.000000    6321.000000    6321.000000   \n",
       "mean       0.231606                0.472821       0.430683       0.367731   \n",
       "std        0.255252                0.489912       0.380785       0.436573   \n",
       "min        0.000000                0.000000       0.000000       0.000000   \n",
       "25%        0.000000                0.000000       0.026620       0.000000   \n",
       "50%        0.142857                0.000000       0.360104       0.000000   \n",
       "75%        0.454545                0.993593       0.826761       0.851852   \n",
       "max        0.788235                0.999935       0.999900       1.000000   \n",
       "\n",
       "       Auction_Duration        Class  \n",
       "count       6321.000000  6321.000000  \n",
       "mean           4.615093     0.106787  \n",
       "std            2.466629     0.308867  \n",
       "min            1.000000     0.000000  \n",
       "25%            3.000000     0.000000  \n",
       "50%            5.000000     0.000000  \n",
       "75%            7.000000     0.000000  \n",
       "max           10.000000     1.000000  "
      ]
     },
     "execution_count": 5,
     "metadata": {},
     "output_type": "execute_result"
    }
   ],
   "source": [
    "data.describe()"
   ]
  },
  {
   "cell_type": "code",
   "execution_count": 6,
   "metadata": {},
   "outputs": [
    {
     "data": {
      "text/plain": [
       "0    5646\n",
       "1     675\n",
       "Name: Class, dtype: int64"
      ]
     },
     "execution_count": 6,
     "metadata": {},
     "output_type": "execute_result"
    }
   ],
   "source": [
    "data.iloc[:, -1].value_counts()"
   ]
  },
  {
   "cell_type": "code",
   "execution_count": 7,
   "metadata": {},
   "outputs": [
    {
     "data": {
      "image/png": "[encoded data removed]",
      "text/plain": [
       "<Figure size 720x360 with 1 Axes>"
      ]
     },
     "metadata": {
      "needs_background": "light"
     },
     "output_type": "display_data"
    }
   ],
   "source": [
    "#Оценка признака Bidder_Tendency в разрезе целевой переменной\n",
    "TARGET_NAME = 'Class'\n",
    "Bidder_Tendency_with_target = data[['Bidder_Tendency', TARGET_NAME]].sample(1000)\n",
    "Bidder_Tendency = Bidder_Tendency_with_target['Bidder_Tendency']\n",
    "Bidder_Tendency_0 = Bidder_Tendency[Bidder_Tendency_with_target[TARGET_NAME] == 0]\n",
    "Bidder_Tendency_1 = Bidder_Tendency[Bidder_Tendency_with_target[TARGET_NAME] == 1]\n",
    "\n",
    "plt.figure(figsize=(10, 5))\n",
    "\n",
    "sns.kdeplot(Bidder_Tendency_0, shade=True, label='No default', color='g')\n",
    "sns.kdeplot(Bidder_Tendency_1, shade=True, label='Default', color='r')\n",
    "\n",
    "plt.xlabel('Bidder_Tendency')\n",
    "plt.title('Bidder_Tendency grouped by target variable');"
   ]
  },
  {
   "cell_type": "code",
   "execution_count": 8,
   "metadata": {},
   "outputs": [
    {
     "data": {
      "image/png": "[encoded data removed]",
      "text/plain": [
       "<Figure size 720x360 with 1 Axes>"
      ]
     },
     "metadata": {
      "needs_background": "light"
     },
     "output_type": "display_data"
    }
   ],
   "source": [
    "#Оценка признака Auction_Bids в разрезе целевой переменной\n",
    "\n",
    "Auction_Bids_with_target = data[['Auction_Bids', TARGET_NAME]].sample(1000)\n",
    "Auction_Bids = Auction_Bids_with_target['Auction_Bids']\n",
    "Auction_Bids_0 = Auction_Bids[Auction_Bids_with_target[TARGET_NAME] == 0]\n",
    "Auction_Bids_1 = Auction_Bids[Auction_Bids_with_target[TARGET_NAME] == 1]\n",
    "\n",
    "plt.figure(figsize=(10, 5))\n",
    "\n",
    "sns.kdeplot(Auction_Bids_0, shade=True, label='No default', color='g')\n",
    "sns.kdeplot(Auction_Bids_1, shade=True, label='Default', color='r')\n",
    "\n",
    "plt.xlabel('Auction_Bids')\n",
    "plt.title('Auction_Bids grouped by target variable');"
   ]
  },
  {
   "cell_type": "markdown",
   "metadata": {},
   "source": [
    "**3. обучить любой классификатор (какой вам нравится)**"
   ]
  },
  {
   "cell_type": "code",
   "execution_count": 9,
   "metadata": {},
   "outputs": [],
   "source": [
    "def score(y, y_pred):\n",
    "    f1 = f1_score(y, y_pred)\n",
    "    prec = precision_score(y, y_pred)\n",
    "    rec = recall_score(y, y_pred)\n",
    "    roc_auc = roc_auc_score(y, y_pred)\n",
    "    return f1, prec, rec, roc_auc"
   ]
  },
  {
   "cell_type": "code",
   "execution_count": 10,
   "metadata": {},
   "outputs": [
    {
     "name": "stdout",
     "output_type": "stream",
     "text": [
      "Доля целевого призака в train = 0.10886075949367088\n",
      "Доля целевого призака в test = 0.10056925996204934\n"
     ]
    }
   ],
   "source": [
    "#разделим данные на train/test\n",
    "X_train, X_test, y_train, y_test = train_test_split(data.drop(columns='Class'), data['Class'], test_size=0.25, random_state=0)\n",
    "#Проверим соотношение целевого признака в train и test\n",
    "print(f'Доля целевого призака в train = {y_train.mean()}')\n",
    "print(f'Доля целевого призака в test = {y_test.mean()}')"
   ]
  },
  {
   "cell_type": "code",
   "execution_count": 11,
   "metadata": {},
   "outputs": [
    {
     "data": {
      "text/plain": [
       "array([0, 0, 0, 0, 0, 1, 0, 0, 0, 0], dtype=int64)"
      ]
     },
     "execution_count": 11,
     "metadata": {},
     "output_type": "execute_result"
    }
   ],
   "source": [
    "gb_model = GradientBoostingClassifier(random_state=0)\n",
    "gb_model.fit(X_train, y_train)\n",
    "y_pred = gb_model.predict(X_test)\n",
    "y_pred[:10]"
   ]
  },
  {
   "cell_type": "code",
   "execution_count": 12,
   "metadata": {},
   "outputs": [
    {
     "data": {
      "text/html": [
       "<div>\n",
       "<style scoped>\n",
       "    .dataframe tbody tr th:only-of-type {\n",
       "        vertical-align: middle;\n",
       "    }\n",
       "\n",
       "    .dataframe tbody tr th {\n",
       "        vertical-align: top;\n",
       "    }\n",
       "\n",
       "    .dataframe thead th {\n",
       "        text-align: right;\n",
       "    }\n",
       "</style>\n",
       "<table border=\"1\" class=\"dataframe\">\n",
       "  <thead>\n",
       "    <tr style=\"text-align: right;\">\n",
       "      <th></th>\n",
       "      <th>model</th>\n",
       "      <th>f1_score</th>\n",
       "      <th>precision</th>\n",
       "      <th>recall</th>\n",
       "      <th>roc_auc</th>\n",
       "    </tr>\n",
       "  </thead>\n",
       "  <tbody>\n",
       "    <tr>\n",
       "      <td>0</td>\n",
       "      <td>GradBoost</td>\n",
       "      <td>0.98452</td>\n",
       "      <td>0.969512</td>\n",
       "      <td>1.0</td>\n",
       "      <td>0.998242</td>\n",
       "    </tr>\n",
       "  </tbody>\n",
       "</table>\n",
       "</div>"
      ],
      "text/plain": [
       "       model  f1_score  precision  recall   roc_auc\n",
       "0  GradBoost   0.98452   0.969512     1.0  0.998242"
      ]
     },
     "execution_count": 12,
     "metadata": {},
     "output_type": "execute_result"
    }
   ],
   "source": [
    "results = pd.DataFrame(\n",
    "    data=[['GradBoost'] + list(score(y_test, y_pred))],\n",
    "    columns=['model', 'f1_score', 'precision', 'recall', 'roc_auc']\n",
    ")\n",
    "results"
   ]
  },
  {
   "cell_type": "markdown",
   "metadata": {},
   "source": [
    "**4. далее разделить ваш набор данных на два множества: P (positives) и U (unlabeled). Причем брать нужно не все положительные (класс 1) примеры, а только лишь часть**"
   ]
  },
  {
   "cell_type": "code",
   "execution_count": 13,
   "metadata": {},
   "outputs": [
    {
     "name": "stdout",
     "output_type": "stream",
     "text": [
      "Using 169/675 as positives and unlabeling the rest\n"
     ]
    }
   ],
   "source": [
    "mod_data = data.copy()\n",
    "#get the indices of the positives samples\n",
    "pos_ind = np.where(mod_data.iloc[:,-1].values == 1)[0]\n",
    "#shuffle them\n",
    "np.random.shuffle(pos_ind)\n",
    "# leave just 25% of the positives marked\n",
    "pos_sample_len = int(np.ceil(0.25 * len(pos_ind)))\n",
    "print(f'Using {pos_sample_len}/{len(pos_ind)} as positives and unlabeling the rest')\n",
    "pos_sample = pos_ind[:pos_sample_len]"
   ]
  },
  {
   "cell_type": "code",
   "execution_count": 14,
   "metadata": {},
   "outputs": [
    {
     "name": "stdout",
     "output_type": "stream",
     "text": [
      "target variable:\n",
      " -1    6152\n",
      " 1     169\n",
      "Name: class_test, dtype: int64\n"
     ]
    }
   ],
   "source": [
    "mod_data['class_test'] = -1\n",
    "mod_data.loc[pos_sample,'class_test'] = 1\n",
    "print('target variable:\\n', mod_data.iloc[:,-1].value_counts())"
   ]
  },
  {
   "cell_type": "code",
   "execution_count": 15,
   "metadata": {},
   "outputs": [
    {
     "data": {
      "text/html": [
       "<div>\n",
       "<style scoped>\n",
       "    .dataframe tbody tr th:only-of-type {\n",
       "        vertical-align: middle;\n",
       "    }\n",
       "\n",
       "    .dataframe tbody tr th {\n",
       "        vertical-align: top;\n",
       "    }\n",
       "\n",
       "    .dataframe thead th {\n",
       "        text-align: right;\n",
       "    }\n",
       "</style>\n",
       "<table border=\"1\" class=\"dataframe\">\n",
       "  <thead>\n",
       "    <tr style=\"text-align: right;\">\n",
       "      <th></th>\n",
       "      <th>Bidder_Tendency</th>\n",
       "      <th>Bidding_Ratio</th>\n",
       "      <th>Successive_Outbidding</th>\n",
       "      <th>Last_Bidding</th>\n",
       "      <th>Auction_Bids</th>\n",
       "      <th>Starting_Price_Average</th>\n",
       "      <th>Early_Bidding</th>\n",
       "      <th>Winning_Ratio</th>\n",
       "      <th>Auction_Duration</th>\n",
       "      <th>Class</th>\n",
       "      <th>class_test</th>\n",
       "    </tr>\n",
       "  </thead>\n",
       "  <tbody>\n",
       "    <tr>\n",
       "      <td>0</td>\n",
       "      <td>0.200000</td>\n",
       "      <td>0.400000</td>\n",
       "      <td>0.0</td>\n",
       "      <td>0.000028</td>\n",
       "      <td>0.000000</td>\n",
       "      <td>0.993593</td>\n",
       "      <td>0.000028</td>\n",
       "      <td>0.666667</td>\n",
       "      <td>5</td>\n",
       "      <td>0</td>\n",
       "      <td>-1</td>\n",
       "    </tr>\n",
       "    <tr>\n",
       "      <td>1</td>\n",
       "      <td>0.024390</td>\n",
       "      <td>0.200000</td>\n",
       "      <td>0.0</td>\n",
       "      <td>0.013123</td>\n",
       "      <td>0.000000</td>\n",
       "      <td>0.993593</td>\n",
       "      <td>0.013123</td>\n",
       "      <td>0.944444</td>\n",
       "      <td>5</td>\n",
       "      <td>0</td>\n",
       "      <td>-1</td>\n",
       "    </tr>\n",
       "    <tr>\n",
       "      <td>2</td>\n",
       "      <td>0.142857</td>\n",
       "      <td>0.200000</td>\n",
       "      <td>0.0</td>\n",
       "      <td>0.003042</td>\n",
       "      <td>0.000000</td>\n",
       "      <td>0.993593</td>\n",
       "      <td>0.003042</td>\n",
       "      <td>1.000000</td>\n",
       "      <td>5</td>\n",
       "      <td>0</td>\n",
       "      <td>-1</td>\n",
       "    </tr>\n",
       "    <tr>\n",
       "      <td>3</td>\n",
       "      <td>0.100000</td>\n",
       "      <td>0.200000</td>\n",
       "      <td>0.0</td>\n",
       "      <td>0.097477</td>\n",
       "      <td>0.000000</td>\n",
       "      <td>0.993593</td>\n",
       "      <td>0.097477</td>\n",
       "      <td>1.000000</td>\n",
       "      <td>5</td>\n",
       "      <td>0</td>\n",
       "      <td>-1</td>\n",
       "    </tr>\n",
       "    <tr>\n",
       "      <td>4</td>\n",
       "      <td>0.051282</td>\n",
       "      <td>0.222222</td>\n",
       "      <td>0.0</td>\n",
       "      <td>0.001318</td>\n",
       "      <td>0.000000</td>\n",
       "      <td>0.000000</td>\n",
       "      <td>0.001242</td>\n",
       "      <td>0.500000</td>\n",
       "      <td>7</td>\n",
       "      <td>0</td>\n",
       "      <td>-1</td>\n",
       "    </tr>\n",
       "    <tr>\n",
       "      <td>5</td>\n",
       "      <td>0.038462</td>\n",
       "      <td>0.111111</td>\n",
       "      <td>0.0</td>\n",
       "      <td>0.016844</td>\n",
       "      <td>0.000000</td>\n",
       "      <td>0.000000</td>\n",
       "      <td>0.016844</td>\n",
       "      <td>0.800000</td>\n",
       "      <td>7</td>\n",
       "      <td>0</td>\n",
       "      <td>-1</td>\n",
       "    </tr>\n",
       "    <tr>\n",
       "      <td>6</td>\n",
       "      <td>0.400000</td>\n",
       "      <td>0.222222</td>\n",
       "      <td>0.0</td>\n",
       "      <td>0.006781</td>\n",
       "      <td>0.000000</td>\n",
       "      <td>0.000000</td>\n",
       "      <td>0.006774</td>\n",
       "      <td>0.750000</td>\n",
       "      <td>7</td>\n",
       "      <td>0</td>\n",
       "      <td>-1</td>\n",
       "    </tr>\n",
       "    <tr>\n",
       "      <td>7</td>\n",
       "      <td>0.137931</td>\n",
       "      <td>0.444444</td>\n",
       "      <td>1.0</td>\n",
       "      <td>0.768044</td>\n",
       "      <td>0.000000</td>\n",
       "      <td>0.000000</td>\n",
       "      <td>0.016311</td>\n",
       "      <td>1.000000</td>\n",
       "      <td>7</td>\n",
       "      <td>1</td>\n",
       "      <td>1</td>\n",
       "    </tr>\n",
       "    <tr>\n",
       "      <td>8</td>\n",
       "      <td>0.121951</td>\n",
       "      <td>0.185185</td>\n",
       "      <td>1.0</td>\n",
       "      <td>0.035021</td>\n",
       "      <td>0.333333</td>\n",
       "      <td>0.993528</td>\n",
       "      <td>0.023963</td>\n",
       "      <td>0.944444</td>\n",
       "      <td>7</td>\n",
       "      <td>1</td>\n",
       "      <td>-1</td>\n",
       "    </tr>\n",
       "    <tr>\n",
       "      <td>9</td>\n",
       "      <td>0.155172</td>\n",
       "      <td>0.346154</td>\n",
       "      <td>0.5</td>\n",
       "      <td>0.570994</td>\n",
       "      <td>0.307692</td>\n",
       "      <td>0.993593</td>\n",
       "      <td>0.413788</td>\n",
       "      <td>0.611111</td>\n",
       "      <td>7</td>\n",
       "      <td>1</td>\n",
       "      <td>-1</td>\n",
       "    </tr>\n",
       "  </tbody>\n",
       "</table>\n",
       "</div>"
      ],
      "text/plain": [
       "   Bidder_Tendency  Bidding_Ratio  Successive_Outbidding  Last_Bidding  \\\n",
       "0         0.200000       0.400000                    0.0      0.000028   \n",
       "1         0.024390       0.200000                    0.0      0.013123   \n",
       "2         0.142857       0.200000                    0.0      0.003042   \n",
       "3         0.100000       0.200000                    0.0      0.097477   \n",
       "4         0.051282       0.222222                    0.0      0.001318   \n",
       "5         0.038462       0.111111                    0.0      0.016844   \n",
       "6         0.400000       0.222222                    0.0      0.006781   \n",
       "7         0.137931       0.444444                    1.0      0.768044   \n",
       "8         0.121951       0.185185                    1.0      0.035021   \n",
       "9         0.155172       0.346154                    0.5      0.570994   \n",
       "\n",
       "   Auction_Bids  Starting_Price_Average  Early_Bidding  Winning_Ratio  \\\n",
       "0      0.000000                0.993593       0.000028       0.666667   \n",
       "1      0.000000                0.993593       0.013123       0.944444   \n",
       "2      0.000000                0.993593       0.003042       1.000000   \n",
       "3      0.000000                0.993593       0.097477       1.000000   \n",
       "4      0.000000                0.000000       0.001242       0.500000   \n",
       "5      0.000000                0.000000       0.016844       0.800000   \n",
       "6      0.000000                0.000000       0.006774       0.750000   \n",
       "7      0.000000                0.000000       0.016311       1.000000   \n",
       "8      0.333333                0.993528       0.023963       0.944444   \n",
       "9      0.307692                0.993593       0.413788       0.611111   \n",
       "\n",
       "   Auction_Duration  Class  class_test  \n",
       "0                 5      0          -1  \n",
       "1                 5      0          -1  \n",
       "2                 5      0          -1  \n",
       "3                 5      0          -1  \n",
       "4                 7      0          -1  \n",
       "5                 7      0          -1  \n",
       "6                 7      0          -1  \n",
       "7                 7      1           1  \n",
       "8                 7      1          -1  \n",
       "9                 7      1          -1  "
      ]
     },
     "execution_count": 15,
     "metadata": {},
     "output_type": "execute_result"
    }
   ],
   "source": [
    "mod_data.head(10)"
   ]
  },
  {
   "cell_type": "code",
   "execution_count": 16,
   "metadata": {},
   "outputs": [],
   "source": [
    "x_data = mod_data.iloc[:,:-2].values # just the X \n",
    "y_labeled = mod_data.iloc[:,-1].values # new class (just the P & U)\n",
    "y_positive = mod_data.iloc[:,-2].values # original class"
   ]
  },
  {
   "cell_type": "markdown",
   "metadata": {},
   "source": [
    "**5. применить random negative sampling для построения классификатора в новых условиях**"
   ]
  },
  {
   "cell_type": "code",
   "execution_count": 17,
   "metadata": {},
   "outputs": [
    {
     "name": "stdout",
     "output_type": "stream",
     "text": [
      "(169, 11) (169, 11)\n"
     ]
    }
   ],
   "source": [
    "mod_data = mod_data.sample(frac=1)\n",
    "neg_sample = mod_data[mod_data['class_test']==-1][:len(mod_data[mod_data['class_test']==1])]\n",
    "sample_test = mod_data[mod_data['class_test']==-1][len(mod_data[mod_data['class_test']==1]):]\n",
    "pos_sample = mod_data[mod_data['class_test']==1]\n",
    "print(neg_sample.shape, pos_sample.shape)\n",
    "sample_train = pd.concat([neg_sample, pos_sample]).sample(frac=1)"
   ]
  },
  {
   "cell_type": "code",
   "execution_count": 18,
   "metadata": {},
   "outputs": [
    {
     "data": {
      "text/plain": [
       "array([0, 0, 1, 0, 0, 0, 0, 0, 0, 0], dtype=int64)"
      ]
     },
     "execution_count": 18,
     "metadata": {},
     "output_type": "execute_result"
    }
   ],
   "source": [
    "gb_model_rn = GradientBoostingClassifier(random_state=0)\n",
    "gb_model_rn.fit(sample_train.iloc[:,:-2].values, \n",
    "          sample_train.iloc[:,-2].values)\n",
    "y_pred = gb_model_rn.predict(sample_test.iloc[:,:-2].values)\n",
    "y_pred[:10]"
   ]
  },
  {
   "cell_type": "markdown",
   "metadata": {},
   "source": [
    "**6. сравнить качество с решением из пункта 4 (построить отчет - таблицу метрик)**"
   ]
  },
  {
   "cell_type": "code",
   "execution_count": 19,
   "metadata": {},
   "outputs": [
    {
     "data": {
      "text/html": [
       "<div>\n",
       "<style scoped>\n",
       "    .dataframe tbody tr th:only-of-type {\n",
       "        vertical-align: middle;\n",
       "    }\n",
       "\n",
       "    .dataframe tbody tr th {\n",
       "        vertical-align: top;\n",
       "    }\n",
       "\n",
       "    .dataframe thead th {\n",
       "        text-align: right;\n",
       "    }\n",
       "</style>\n",
       "<table border=\"1\" class=\"dataframe\">\n",
       "  <thead>\n",
       "    <tr style=\"text-align: right;\">\n",
       "      <th></th>\n",
       "      <th>model</th>\n",
       "      <th>f1_score</th>\n",
       "      <th>precision</th>\n",
       "      <th>recall</th>\n",
       "      <th>roc_auc</th>\n",
       "    </tr>\n",
       "  </thead>\n",
       "  <tbody>\n",
       "    <tr>\n",
       "      <td>0</td>\n",
       "      <td>GradBoost</td>\n",
       "      <td>0.984520</td>\n",
       "      <td>0.969512</td>\n",
       "      <td>1.000000</td>\n",
       "      <td>0.998242</td>\n",
       "    </tr>\n",
       "    <tr>\n",
       "      <td>1</td>\n",
       "      <td>PU GradBoost_25%</td>\n",
       "      <td>0.850655</td>\n",
       "      <td>0.743511</td>\n",
       "      <td>0.993878</td>\n",
       "      <td>0.981647</td>\n",
       "    </tr>\n",
       "  </tbody>\n",
       "</table>\n",
       "</div>"
      ],
      "text/plain": [
       "              model  f1_score  precision    recall   roc_auc\n",
       "0         GradBoost  0.984520   0.969512  1.000000  0.998242\n",
       "1  PU GradBoost_25%  0.850655   0.743511  0.993878  0.981647"
      ]
     },
     "execution_count": 19,
     "metadata": {},
     "output_type": "execute_result"
    }
   ],
   "source": [
    "results = results.append(pd.DataFrame(\n",
    "    data=[['PU GradBoost_25%'] + list(score(sample_test.iloc[:,-2].values, y_pred))],\n",
    "    columns=results.columns\n",
    "), ignore_index=True)\n",
    "\n",
    "results"
   ]
  },
  {
   "cell_type": "markdown",
   "metadata": {},
   "source": [
    "Заметно снизился precision у PU GradBoost, необходим более тщательный подбор порога."
   ]
  },
  {
   "cell_type": "markdown",
   "metadata": {},
   "source": [
    "**7. поэкспериментировать с долей P на шаге 5 (как будет меняться качество модели при уменьшении/увеличении размера P)**"
   ]
  },
  {
   "cell_type": "code",
   "execution_count": 20,
   "metadata": {},
   "outputs": [
    {
     "name": "stdout",
     "output_type": "stream",
     "text": [
      "Using 68/675 as positives and unlabeling the rest\n",
      "target variable:\n",
      " -1    6253\n",
      " 1      68\n",
      "Name: class_test, dtype: int64\n",
      "(68, 11) (68, 11)\n"
     ]
    },
    {
     "data": {
      "text/html": [
       "<div>\n",
       "<style scoped>\n",
       "    .dataframe tbody tr th:only-of-type {\n",
       "        vertical-align: middle;\n",
       "    }\n",
       "\n",
       "    .dataframe tbody tr th {\n",
       "        vertical-align: top;\n",
       "    }\n",
       "\n",
       "    .dataframe thead th {\n",
       "        text-align: right;\n",
       "    }\n",
       "</style>\n",
       "<table border=\"1\" class=\"dataframe\">\n",
       "  <thead>\n",
       "    <tr style=\"text-align: right;\">\n",
       "      <th></th>\n",
       "      <th>model</th>\n",
       "      <th>f1_score</th>\n",
       "      <th>precision</th>\n",
       "      <th>recall</th>\n",
       "      <th>roc_auc</th>\n",
       "    </tr>\n",
       "  </thead>\n",
       "  <tbody>\n",
       "    <tr>\n",
       "      <td>0</td>\n",
       "      <td>GradBoost</td>\n",
       "      <td>0.984520</td>\n",
       "      <td>0.969512</td>\n",
       "      <td>1.000000</td>\n",
       "      <td>0.998242</td>\n",
       "    </tr>\n",
       "    <tr>\n",
       "      <td>1</td>\n",
       "      <td>PU GradBoost_25%</td>\n",
       "      <td>0.850655</td>\n",
       "      <td>0.743511</td>\n",
       "      <td>0.993878</td>\n",
       "      <td>0.981647</td>\n",
       "    </tr>\n",
       "    <tr>\n",
       "      <td>2</td>\n",
       "      <td>PU GradBoost_10%</td>\n",
       "      <td>0.888552</td>\n",
       "      <td>0.816156</td>\n",
       "      <td>0.975042</td>\n",
       "      <td>0.975701</td>\n",
       "    </tr>\n",
       "  </tbody>\n",
       "</table>\n",
       "</div>"
      ],
      "text/plain": [
       "              model  f1_score  precision    recall   roc_auc\n",
       "0         GradBoost  0.984520   0.969512  1.000000  0.998242\n",
       "1  PU GradBoost_25%  0.850655   0.743511  0.993878  0.981647\n",
       "2  PU GradBoost_10%  0.888552   0.816156  0.975042  0.975701"
      ]
     },
     "execution_count": 20,
     "metadata": {},
     "output_type": "execute_result"
    }
   ],
   "source": [
    "mod_data = data.copy()\n",
    "#get the indices of the positives samples\n",
    "pos_ind = np.where(mod_data.iloc[:,-1].values == 1)[0]\n",
    "#shuffle them\n",
    "np.random.shuffle(pos_ind)\n",
    "# leave just 10% of the positives marked\n",
    "pos_sample_len = int(np.ceil(0.1 * len(pos_ind)))\n",
    "print(f'Using {pos_sample_len}/{len(pos_ind)} as positives and unlabeling the rest')\n",
    "pos_sample = pos_ind[:pos_sample_len]\n",
    "\n",
    "mod_data['class_test'] = -1\n",
    "mod_data.loc[pos_sample,'class_test'] = 1\n",
    "print('target variable:\\n', mod_data.iloc[:,-1].value_counts())\n",
    "\n",
    "x_data = mod_data.iloc[:,:-2].values # just the X \n",
    "y_labeled = mod_data.iloc[:,-1].values # new class (just the P & U)\n",
    "y_positive = mod_data.iloc[:,-2].values # original class\n",
    "\n",
    "mod_data = mod_data.sample(frac=1)\n",
    "neg_sample = mod_data[mod_data['class_test']==-1][:len(mod_data[mod_data['class_test']==1])]\n",
    "sample_test = mod_data[mod_data['class_test']==-1][len(mod_data[mod_data['class_test']==1]):]\n",
    "pos_sample = mod_data[mod_data['class_test']==1]\n",
    "print(neg_sample.shape, pos_sample.shape)\n",
    "sample_train = pd.concat([neg_sample, pos_sample]).sample(frac=1)\n",
    "\n",
    "gb_model_rn = GradientBoostingClassifier(random_state=0)\n",
    "gb_model_rn.fit(sample_train.iloc[:,:-2].values, \n",
    "          sample_train.iloc[:,-2].values)\n",
    "#y_pred = gb_model_rn.predict(sample_test.iloc[:,:-2].values)\n",
    "y_pred = (gb_model_rn.predict_proba(sample_test.iloc[:,:-2].values)[:,1] >= 0.7).astype(bool)\n",
    "\n",
    "results = results.append(pd.DataFrame(\n",
    "    data=[['PU GradBoost_10%'] + list(score(sample_test.iloc[:,-2].values, y_pred))],\n",
    "    columns=results.columns\n",
    "), ignore_index=True)\n",
    "\n",
    "results"
   ]
  },
  {
   "cell_type": "code",
   "execution_count": 21,
   "metadata": {},
   "outputs": [
    {
     "name": "stdout",
     "output_type": "stream",
     "text": [
      "Using 338/675 as positives and unlabeling the rest\n",
      "target variable:\n",
      " -1    5983\n",
      " 1     338\n",
      "Name: class_test, dtype: int64\n",
      "(338, 11) (338, 11)\n"
     ]
    },
    {
     "data": {
      "text/html": [
       "<div>\n",
       "<style scoped>\n",
       "    .dataframe tbody tr th:only-of-type {\n",
       "        vertical-align: middle;\n",
       "    }\n",
       "\n",
       "    .dataframe tbody tr th {\n",
       "        vertical-align: top;\n",
       "    }\n",
       "\n",
       "    .dataframe thead th {\n",
       "        text-align: right;\n",
       "    }\n",
       "</style>\n",
       "<table border=\"1\" class=\"dataframe\">\n",
       "  <thead>\n",
       "    <tr style=\"text-align: right;\">\n",
       "      <th></th>\n",
       "      <th>model</th>\n",
       "      <th>f1_score</th>\n",
       "      <th>precision</th>\n",
       "      <th>recall</th>\n",
       "      <th>roc_auc</th>\n",
       "    </tr>\n",
       "  </thead>\n",
       "  <tbody>\n",
       "    <tr>\n",
       "      <td>0</td>\n",
       "      <td>GradBoost</td>\n",
       "      <td>0.984520</td>\n",
       "      <td>0.969512</td>\n",
       "      <td>1.000000</td>\n",
       "      <td>0.998242</td>\n",
       "    </tr>\n",
       "    <tr>\n",
       "      <td>1</td>\n",
       "      <td>PU GradBoost_25%</td>\n",
       "      <td>0.850655</td>\n",
       "      <td>0.743511</td>\n",
       "      <td>0.993878</td>\n",
       "      <td>0.981647</td>\n",
       "    </tr>\n",
       "    <tr>\n",
       "      <td>2</td>\n",
       "      <td>PU GradBoost_10%</td>\n",
       "      <td>0.888552</td>\n",
       "      <td>0.816156</td>\n",
       "      <td>0.975042</td>\n",
       "      <td>0.975701</td>\n",
       "    </tr>\n",
       "    <tr>\n",
       "      <td>3</td>\n",
       "      <td>PU GradBoost_50%</td>\n",
       "      <td>0.905933</td>\n",
       "      <td>0.834667</td>\n",
       "      <td>0.990506</td>\n",
       "      <td>0.989436</td>\n",
       "    </tr>\n",
       "  </tbody>\n",
       "</table>\n",
       "</div>"
      ],
      "text/plain": [
       "              model  f1_score  precision    recall   roc_auc\n",
       "0         GradBoost  0.984520   0.969512  1.000000  0.998242\n",
       "1  PU GradBoost_25%  0.850655   0.743511  0.993878  0.981647\n",
       "2  PU GradBoost_10%  0.888552   0.816156  0.975042  0.975701\n",
       "3  PU GradBoost_50%  0.905933   0.834667  0.990506  0.989436"
      ]
     },
     "execution_count": 21,
     "metadata": {},
     "output_type": "execute_result"
    }
   ],
   "source": [
    "mod_data = data.copy()\n",
    "#get the indices of the positives samples\n",
    "pos_ind = np.where(mod_data.iloc[:,-1].values == 1)[0]\n",
    "#shuffle them\n",
    "np.random.shuffle(pos_ind)\n",
    "# leave just 10% of the positives marked\n",
    "pos_sample_len = int(np.ceil(0.5 * len(pos_ind)))\n",
    "print(f'Using {pos_sample_len}/{len(pos_ind)} as positives and unlabeling the rest')\n",
    "pos_sample = pos_ind[:pos_sample_len]\n",
    "\n",
    "mod_data['class_test'] = -1\n",
    "mod_data.loc[pos_sample,'class_test'] = 1\n",
    "print('target variable:\\n', mod_data.iloc[:,-1].value_counts())\n",
    "\n",
    "x_data = mod_data.iloc[:,:-2].values # just the X \n",
    "y_labeled = mod_data.iloc[:,-1].values # new class (just the P & U)\n",
    "y_positive = mod_data.iloc[:,-2].values # original class\n",
    "\n",
    "mod_data = mod_data.sample(frac=1)\n",
    "neg_sample = mod_data[mod_data['class_test']==-1][:len(mod_data[mod_data['class_test']==1])]\n",
    "sample_test = mod_data[mod_data['class_test']==-1][len(mod_data[mod_data['class_test']==1]):]\n",
    "pos_sample = mod_data[mod_data['class_test']==1]\n",
    "print(neg_sample.shape, pos_sample.shape)\n",
    "sample_train = pd.concat([neg_sample, pos_sample]).sample(frac=1)\n",
    "\n",
    "gb_model_rn = GradientBoostingClassifier(random_state=0)\n",
    "gb_model_rn.fit(sample_train.iloc[:,:-2].values, \n",
    "          sample_train.iloc[:,-2].values)\n",
    "#y_pred = gb_model_rn.predict(sample_test.iloc[:,:-2].values)\n",
    "y_pred = (gb_model_rn.predict_proba(sample_test.iloc[:,:-2].values)[:,1] >= 0.7).astype(bool)\n",
    "\n",
    "results = results.append(pd.DataFrame(\n",
    "    data=[['PU GradBoost_50%'] + list(score(sample_test.iloc[:,-2].values, y_pred))],\n",
    "    columns=results.columns\n",
    "), ignore_index=True)\n",
    "\n",
    "results"
   ]
  },
  {
   "cell_type": "markdown",
   "metadata": {},
   "source": [
    "За счет подбора порога немного выровнялись precision recall для PU GradBoost_10% и PU GradBoost_50%. Наилучшие показатели при использовании 50% позитивов."
   ]
  }
 ],
 "metadata": {
  "kernelspec": {
   "display_name": "Python 3",
   "language": "python",
   "name": "python3"
  },
  "language_info": {
   "codemirror_mode": {
    "name": "ipython",
    "version": 3
   },
   "file_extension": ".py",
   "mimetype": "text/x-python",
   "name": "python",
   "nbconvert_exporter": "python",
   "pygments_lexer": "ipython3",
   "version": "3.7.4"
  }
 },
 "nbformat": 4,
 "nbformat_minor": 2
}
